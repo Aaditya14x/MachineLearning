{
  "cells": [
    {
      "cell_type": "markdown",
      "metadata": {
        "id": "view-in-github",
        "colab_type": "text"
      },
      "source": [
        "<a href=\"https://colab.research.google.com/github/Aaditya14x/MachineLearning/blob/main/Copy_of_Autoencoders.ipynb\" target=\"_parent\"><img src=\"https://colab.research.google.com/assets/colab-badge.svg\" alt=\"Open In Colab\"/></a>"
      ]
    },
    {
      "cell_type": "code",
      "execution_count": null,
      "metadata": {
        "colab": {
          "background_save": true
        },
        "id": "WQl8TSiHSOCU"
      },
      "outputs": [],
      "source": [
        "from keras.layers import Input, Dense\n",
        "from keras.models import Model\n",
        "\n",
        "# this is the size of our encoded representations\n",
        "encoding_dim = 64  # 32 floats -> compression of factor 24.5, assuming the input is 784 floats\n",
        "\n",
        "# this is our input placeholder\n",
        "input_img = Input(shape=(784,))\n",
        "# \"encoded\" is the encoded representation of the input\n",
        "encoded = Dense(encoding_dim, activation='relu')(input_img)\n",
        "# \"decoded\" is the lossy reconstruction of the input\n",
        "decoded = Dense(784, activation='sigmoid')(encoded)\n",
        "\n",
        "# this model maps an input to its reconstruction\n",
        "autoencoder = Model(input_img, decoded)"
      ]
    },
    {
      "cell_type": "code",
      "execution_count": null,
      "metadata": {
        "colab": {
          "background_save": true
        },
        "id": "Gq173u9YSTvU"
      },
      "outputs": [],
      "source": [
        "# this model maps an input to its encoded representation\n",
        "encoder = Model(input_img, encoded)"
      ]
    },
    {
      "cell_type": "code",
      "execution_count": null,
      "metadata": {
        "colab": {
          "background_save": true
        },
        "id": "q3K4BB0VSbfD"
      },
      "outputs": [],
      "source": [
        "# create a placeholder for an encoded (32-dimensional) input\n",
        "encoded_input = Input(shape=(encoding_dim,))\n",
        "# retrieve the last layer of the autoencoder model\n",
        "decoder_layer = autoencoder.layers[-1]\n",
        "# create the decoder model\n",
        "decoder = Model(encoded_input, decoder_layer(encoded_input))"
      ]
    },
    {
      "cell_type": "code",
      "execution_count": null,
      "metadata": {
        "colab": {
          "background_save": true
        },
        "id": "txJYhPm1SfLq"
      },
      "outputs": [],
      "source": [
        "autoencoder.compile(optimizer='adadelta', loss='binary_crossentropy')"
      ]
    },
    {
      "cell_type": "code",
      "execution_count": null,
      "metadata": {
        "colab": {
          "background_save": true
        },
        "id": "ox4PzfObSiQd"
      },
      "outputs": [],
      "source": [
        "from keras.datasets import mnist\n",
        "import numpy as np\n",
        "(x_train, _), (x_test, _) = mnist.load_data()"
      ]
    },
    {
      "cell_type": "code",
      "execution_count": null,
      "metadata": {
        "colab": {
          "background_save": true
        },
        "id": "5riYiwmoSlDz",
        "outputId": "2cee29af-fd00-48ca-f300-f9cf60f64536"
      },
      "outputs": [
        {
          "name": "stdout",
          "output_type": "stream",
          "text": [
            "(60000, 784)\n",
            "(10000, 784)\n"
          ]
        }
      ],
      "source": [
        "x_train = x_train.astype('float32') / 255.\n",
        "x_test = x_test.astype('float32') / 255.\n",
        "x_train = x_train.reshape((len(x_train), np.prod(x_train.shape[1:])))\n",
        "x_test = x_test.reshape((len(x_test), np.prod(x_test.shape[1:])))\n",
        "print (x_train.shape)\n",
        "print (x_test.shape)"
      ]
    },
    {
      "cell_type": "code",
      "execution_count": null,
      "metadata": {
        "colab": {
          "background_save": true
        },
        "id": "zzkP2dNISsfq",
        "outputId": "1c5dd044-d827-49f3-aea3-4f8696d70f43"
      },
      "outputs": [
        {
          "name": "stdout",
          "output_type": "stream",
          "text": [
            "Epoch 1/12\n",
            "235/235 [==============================] - 5s 14ms/step - loss: 0.6944 - val_loss: 0.6942\n",
            "Epoch 2/12\n",
            "235/235 [==============================] - 3s 13ms/step - loss: 0.6941 - val_loss: 0.6939\n",
            "Epoch 3/12\n",
            "235/235 [==============================] - 3s 13ms/step - loss: 0.6938 - val_loss: 0.6936\n",
            "Epoch 4/12\n",
            "235/235 [==============================] - 4s 17ms/step - loss: 0.6934 - val_loss: 0.6933\n",
            "Epoch 5/12\n",
            "235/235 [==============================] - 3s 13ms/step - loss: 0.6931 - val_loss: 0.6929\n",
            "Epoch 6/12\n",
            "235/235 [==============================] - 3s 13ms/step - loss: 0.6928 - val_loss: 0.6926\n",
            "Epoch 7/12\n",
            "235/235 [==============================] - 3s 13ms/step - loss: 0.6925 - val_loss: 0.6923\n",
            "Epoch 8/12\n",
            "235/235 [==============================] - 4s 16ms/step - loss: 0.6922 - val_loss: 0.6920\n",
            "Epoch 9/12\n",
            "235/235 [==============================] - 3s 13ms/step - loss: 0.6919 - val_loss: 0.6917\n",
            "Epoch 10/12\n",
            "235/235 [==============================] - 3s 13ms/step - loss: 0.6916 - val_loss: 0.6914\n",
            "Epoch 11/12\n",
            "235/235 [==============================] - 3s 12ms/step - loss: 0.6913 - val_loss: 0.6911\n",
            "Epoch 12/12\n",
            "235/235 [==============================] - 4s 16ms/step - loss: 0.6910 - val_loss: 0.6908\n"
          ]
        },
        {
          "data": {
            "text/plain": [
              "<keras.src.callbacks.History at 0x7b7c80e3ca60>"
            ]
          },
          "execution_count": 33,
          "metadata": {},
          "output_type": "execute_result"
        }
      ],
      "source": [
        "autoencoder.fit(x_train, x_train,\n",
        "                epochs=12,\n",
        "                batch_size=256,\n",
        "                shuffle=True,\n",
        "                validation_data=(x_test, x_test))"
      ]
    },
    {
      "cell_type": "code",
      "execution_count": null,
      "metadata": {
        "colab": {
          "background_save": true
        },
        "id": "OUr7fRVwSwHY",
        "outputId": "9f28a4b2-2e4f-4b54-93e7-86718c155ef9"
      },
      "outputs": [
        {
          "name": "stdout",
          "output_type": "stream",
          "text": [
            "313/313 [==============================] - 1s 2ms/step\n",
            "313/313 [==============================] - 1s 2ms/step\n"
          ]
        }
      ],
      "source": [
        "# encode and decode some digits\n",
        "# note that we take them from the *test* set\n",
        "encoded_imgs = encoder.predict(x_test)\n",
        "decoded_imgs = decoder.predict(encoded_imgs)"
      ]
    },
    {
      "cell_type": "code",
      "execution_count": null,
      "metadata": {
        "colab": {
          "background_save": true
        },
        "id": "HqkoJw8xSzH1",
        "outputId": "d74e30f2-5eed-480a-ba21-6c17b7d316ce"
      },
      "outputs": [
        {
          "data": {
            "image/png": "[encoded data removed]",
            "text/plain": [
              "<Figure size 2000x400 with 20 Axes>"
            ]
          },
          "metadata": {},
          "output_type": "display_data"
        }
      ],
      "source": [
        "# use Matplotlib (don't ask)\n",
        "import matplotlib.pyplot as plt\n",
        "\n",
        "n = 10  # how many digits we will display\n",
        "plt.figure(figsize=(20, 4))\n",
        "for i in range(n):\n",
        "    # display original\n",
        "    ax = plt.subplot(2, n, i + 1)\n",
        "    plt.imshow(x_test[i].reshape(28, 28))\n",
        "    plt.gray()\n",
        "    ax.get_xaxis().set_visible(False)\n",
        "    ax.get_yaxis().set_visible(False)\n",
        "\n",
        "    # display reconstruction\n",
        "    ax = plt.subplot(2, n, i + 1 + n)\n",
        "    plt.imshow(decoded_imgs[i].reshape(28, 28))\n",
        "    plt.gray()\n",
        "    ax.get_xaxis().set_visible(False)\n",
        "    ax.get_yaxis().set_visible(False)\n",
        "plt.show()"
      ]
    },
    {
      "cell_type": "code",
      "execution_count": null,
      "metadata": {
        "colab": {
          "background_save": true
        },
        "id": "ODd0yFC1bl7l"
      },
      "outputs": [],
      "source": [
        "from keras.layers import Input, Dense\n",
        "from keras.models import Model\n",
        "\n",
        "# Define the size of the encoded representation\n",
        "encoding_dim = 32  # 32 floats -> compression of factor 24.5, assuming the input is 784 floats\n",
        "\n",
        "# Input placeholder\n",
        "input_img = Input(shape=(784,))\n",
        "\n",
        "# Encoding layers\n",
        "encoded = Dense(128, activation='relu')(input_img)\n",
        "encoded = Dense(64, activation='relu')(encoded)\n",
        "encoded = Dense(encoding_dim, activation='relu')(encoded)\n",
        "\n",
        "# Decoding layers\n",
        "decoded = Dense(64, activation='relu')(encoded)\n",
        "decoded = Dense(128, activation='relu')(decoded)\n",
        "decoded = Dense(784, activation='sigmoid')(decoded)\n",
        "\n",
        "# Autoencoder model\n",
        "autoencoder = Model(input_img, decoded)\n",
        "\n",
        "# Encoder model\n",
        "encoder = Model(input_img, encoded)\n",
        "\n",
        "# Decoder model\n",
        "encoded_input = Input(shape=(encoding_dim,))\n",
        "decoder_layer1 = autoencoder.layers[-3]\n",
        "decoder_layer2 = autoencoder.layers[-2]\n",
        "decoder_layer3 = autoencoder.layers[-1]\n",
        "decoder = Model(encoded_input, decoder_layer3(decoder_layer2(decoder_layer1(encoded_input))))\n"
      ]
    },
    {
      "cell_type": "code",
      "execution_count": null,
      "metadata": {
        "colab": {
          "background_save": true,
          "base_uri": "https://localhost:8080/"
        },
        "id": "pedaPEaRcAic",
        "outputId": "f3a389ff-da7b-4fd5-f670-460eda4239ed"
      },
      "outputs": [
        {
          "name": "stdout",
          "output_type": "stream",
          "text": [
            "Epoch 1/50\n",
            "7500/7500 [==============================] - 50s 6ms/step - loss: 0.1295 - val_loss: 0.1043\n",
            "Epoch 2/50\n",
            "7500/7500 [==============================] - 49s 7ms/step - loss: 0.1009 - val_loss: 0.0957\n",
            "Epoch 3/50\n",
            "7500/7500 [==============================] - 50s 7ms/step - loss: 0.0950 - val_loss: 0.0915\n",
            "Epoch 4/50\n",
            "7500/7500 [==============================] - 53s 7ms/step - loss: 0.0922 - val_loss: 0.0902\n",
            "Epoch 5/50\n",
            "7500/7500 [==============================] - 48s 6ms/step - loss: 0.0904 - val_loss: 0.0900\n",
            "Epoch 6/50\n",
            "7500/7500 [==============================] - 48s 6ms/step - loss: 0.0891 - val_loss: 0.0875\n",
            "Epoch 7/50\n",
            "7500/7500 [==============================] - 49s 6ms/step - loss: 0.0880 - val_loss: 0.0858\n",
            "Epoch 8/50\n",
            "7500/7500 [==============================] - 50s 7ms/step - loss: 0.0869 - val_loss: 0.0867\n",
            "Epoch 9/50\n",
            "7500/7500 [==============================] - 48s 6ms/step - loss: 0.0861 - val_loss: 0.0848\n",
            "Epoch 10/50\n",
            "7500/7500 [==============================] - 48s 6ms/step - loss: 0.0853 - val_loss: 0.0838\n",
            "Epoch 11/50\n",
            "7500/7500 [==============================] - 50s 7ms/step - loss: 0.0848 - val_loss: 0.0836\n",
            "Epoch 12/50\n",
            "7500/7500 [==============================] - 49s 6ms/step - loss: 0.0844 - val_loss: 0.0842\n",
            "Epoch 13/50\n",
            "7500/7500 [==============================] - 54s 7ms/step - loss: 0.0841 - val_loss: 0.0829\n",
            "Epoch 14/50\n",
            "7500/7500 [==============================] - 46s 6ms/step - loss: 0.0839 - val_loss: 0.0837\n",
            "Epoch 15/50\n",
            "7500/7500 [==============================] - 54s 7ms/step - loss: 0.0836 - val_loss: 0.0821\n",
            "Epoch 16/50\n",
            "7500/7500 [==============================] - 48s 6ms/step - loss: 0.0835 - val_loss: 0.0829\n",
            "Epoch 17/50\n",
            "7500/7500 [==============================] - 51s 7ms/step - loss: 0.0833 - val_loss: 0.0828\n",
            "Epoch 18/50\n",
            "7500/7500 [==============================] - 48s 6ms/step - loss: 0.0832 - val_loss: 0.0820\n",
            "Epoch 19/50\n",
            "7500/7500 [==============================] - 45s 6ms/step - loss: 0.0830 - val_loss: 0.0826\n",
            "Epoch 20/50\n",
            "7500/7500 [==============================] - 49s 7ms/step - loss: 0.0829 - val_loss: 0.0829\n",
            "Epoch 21/50\n",
            "7500/7500 [==============================] - 49s 6ms/step - loss: 0.0828 - val_loss: 0.0827\n",
            "Epoch 22/50\n",
            "7500/7500 [==============================] - 50s 7ms/step - loss: 0.0827 - val_loss: 0.0822\n",
            "Epoch 23/50\n",
            "7500/7500 [==============================] - 51s 7ms/step - loss: 0.0826 - val_loss: 0.0825\n",
            "Epoch 24/50\n",
            "7500/7500 [==============================] - 47s 6ms/step - loss: 0.0825 - val_loss: 0.0819\n",
            "Epoch 25/50\n",
            "7500/7500 [==============================] - 57s 8ms/step - loss: 0.0824 - val_loss: 0.0824\n",
            "Epoch 26/50\n",
            "7500/7500 [==============================] - 51s 7ms/step - loss: 0.0824 - val_loss: 0.0820\n",
            "Epoch 27/50\n",
            "7500/7500 [==============================] - 53s 7ms/step - loss: 0.0823 - val_loss: 0.0826\n",
            "Epoch 28/50\n",
            "7500/7500 [==============================] - 48s 6ms/step - loss: 0.0822 - val_loss: 0.0813\n",
            "Epoch 29/50\n",
            "7500/7500 [==============================] - 49s 6ms/step - loss: 0.0821 - val_loss: 0.0823\n",
            "Epoch 30/50\n",
            "7500/7500 [==============================] - 52s 7ms/step - loss: 0.0820 - val_loss: 0.0821\n",
            "Epoch 31/50\n",
            "7500/7500 [==============================] - 48s 6ms/step - loss: 0.0820 - val_loss: 0.0816\n",
            "Epoch 32/50\n",
            "7500/7500 [==============================] - 48s 6ms/step - loss: 0.0820 - val_loss: 0.0817\n",
            "Epoch 33/50\n",
            "7500/7500 [==============================] - 46s 6ms/step - loss: 0.0819 - val_loss: 0.0805\n",
            "Epoch 34/50\n",
            "7500/7500 [==============================] - 46s 6ms/step - loss: 0.0818 - val_loss: 0.0823\n",
            "Epoch 35/50\n",
            "7500/7500 [==============================] - 51s 7ms/step - loss: 0.0818 - val_loss: 0.0817\n",
            "Epoch 36/50\n",
            "7500/7500 [==============================] - 48s 6ms/step - loss: 0.0817 - val_loss: 0.0808\n",
            "Epoch 37/50\n",
            "7500/7500 [==============================] - 46s 6ms/step - loss: 0.0817 - val_loss: 0.0811\n",
            "Epoch 38/50\n",
            "7500/7500 [==============================] - 45s 6ms/step - loss: 0.0816 - val_loss: 0.0809\n",
            "Epoch 39/50\n",
            "7500/7500 [==============================] - 47s 6ms/step - loss: 0.0816 - val_loss: 0.0809\n",
            "Epoch 40/50\n",
            "7500/7500 [==============================] - 50s 7ms/step - loss: 0.0816 - val_loss: 0.0809\n",
            "Epoch 41/50\n",
            "7500/7500 [==============================] - 45s 6ms/step - loss: 0.0815 - val_loss: 0.0818\n",
            "Epoch 42/50\n",
            "7500/7500 [==============================] - 45s 6ms/step - loss: 0.0815 - val_loss: 0.0808\n",
            "Epoch 43/50\n",
            "7500/7500 [==============================] - 43s 6ms/step - loss: 0.0814 - val_loss: 0.0812\n",
            "Epoch 44/50\n",
            "7500/7500 [==============================] - 45s 6ms/step - loss: 0.0814 - val_loss: 0.0816\n",
            "Epoch 45/50\n",
            "7500/7500 [==============================] - 47s 6ms/step - loss: 0.0814 - val_loss: 0.0807\n",
            "Epoch 46/50\n",
            "7500/7500 [==============================] - 43s 6ms/step - loss: 0.0814 - val_loss: 0.0803\n",
            "Epoch 47/50\n",
            "7500/7500 [==============================] - 42s 6ms/step - loss: 0.0813 - val_loss: 0.0807\n",
            "Epoch 48/50\n",
            "7500/7500 [==============================] - 43s 6ms/step - loss: 0.0813 - val_loss: 0.0810\n",
            "Epoch 49/50\n",
            "7500/7500 [==============================] - 45s 6ms/step - loss: 0.0813 - val_loss: 0.0810\n",
            "Epoch 50/50\n",
            "7500/7500 [==============================] - 43s 6ms/step - loss: 0.0812 - val_loss: 0.0812\n"
          ]
        },
        {
          "data": {
            "text/plain": [
              "<keras.src.callbacks.History at 0x7b7c8c363310>"
            ]
          },
          "execution_count": 24,
          "metadata": {},
          "output_type": "execute_result"
        }
      ],
      "source": [
        "# Compile the model\n",
        "autoencoder.compile(optimizer='adam', loss='binary_crossentropy')\n",
        "\n",
        "# Train the model\n",
        "autoencoder.fit(x_train, x_train,\n",
        "                epochs=50,\n",
        "                batch_size=8,\n",
        "                shuffle=True,\n",
        "                validation_data=(x_test, x_test))\n",
        "\n"
      ]
    },
    {
      "cell_type": "code",
      "execution_count": null,
      "metadata": {
        "colab": {
          "background_save": true
        },
        "id": "NKK5C_rlcNDl",
        "outputId": "36a13b1b-0797-4244-d45d-cf6120f356e2"
      },
      "outputs": [
        {
          "name": "stdout",
          "output_type": "stream",
          "text": [
            "313/313 [==============================] - 1s 2ms/step\n",
            "313/313 [==============================] - 1s 2ms/step\n"
          ]
        }
      ],
      "source": [
        "# encode and decode some digits\n",
        "# note that we take them from the *test* set\n",
        "encoded_imgs = encoder.predict(x_test)\n",
        "decoded_imgs = decoder.predict(encoded_imgs)"
      ]
    },
    {
      "cell_type": "code",
      "execution_count": null,
      "metadata": {
        "colab": {
          "background_save": true
        },
        "id": "ZQA_n46BcI47",
        "outputId": "7313f8f1-62e2-4e6b-80cd-e7f21c310833"
      },
      "outputs": [
        {
          "data": {
            "image/png": "[encoded data removed]",
            "text/plain": [
              "<Figure size 2000x400 with 20 Axes>"
            ]
          },
          "metadata": {},
          "output_type": "display_data"
        }
      ],
      "source": [
        "# use Matplotlib (don't ask)\n",
        "import matplotlib.pyplot as plt\n",
        "\n",
        "n = 10  # how many digits we will display\n",
        "plt.figure(figsize=(20, 4))\n",
        "for i in range(n):\n",
        "    # display original\n",
        "    ax = plt.subplot(2, n, i + 1)\n",
        "    plt.imshow(x_test[i].reshape(28, 28))\n",
        "    plt.gray()\n",
        "    ax.get_xaxis().set_visible(False)\n",
        "    ax.get_yaxis().set_visible(False)\n",
        "\n",
        "    # display reconstruction\n",
        "    ax = plt.subplot(2, n, i + 1 + n)\n",
        "    plt.imshow(decoded_imgs[i].reshape(28, 28))\n",
        "    plt.gray()\n",
        "    ax.get_xaxis().set_visible(False)\n",
        "    ax.get_yaxis().set_visible(False)\n",
        "plt.show()"
      ]
    }
  ],
  "metadata": {
    "colab": {
      "provenance": [],
      "include_colab_link": true
    },
    "kernelspec": {
      "display_name": "Python 3",
      "name": "python3"
    }
  },
  "nbformat": 4,
  "nbformat_minor": 0
}